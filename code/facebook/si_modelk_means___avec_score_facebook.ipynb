{
  "cells": [
    {
      "cell_type": "code",
      "execution_count": 1,
      "metadata": {
        "colab": {
          "base_uri": "https://localhost:8080/"
        },
        "id": "QIQ0sb5h_e_5",
        "outputId": "951352b5-6bfd-4491-910f-9d4b80fd20df"
      },
      "outputs": [
        {
          "output_type": "stream",
          "name": "stdout",
          "text": [
            "Looking in indexes: https://pypi.org/simple, https://us-python.pkg.dev/colab-wheels/public/simple/\n",
            "Collecting ndlib\n",
            "  Downloading ndlib-5.1.1-py3-none-any.whl (110 kB)\n",
            "\u001b[K     |████████████████████████████████| 110 kB 5.0 MB/s \n",
            "\u001b[?25hCollecting dynetx\n",
            "  Downloading dynetx-0.3.1-py3-none-any.whl (39 kB)\n",
            "Collecting python-igraph\n",
            "  Downloading python-igraph-0.9.11.tar.gz (9.5 kB)\n",
            "Requirement already satisfied: numpy in /usr/local/lib/python3.7/dist-packages (from ndlib) (1.21.6)\n",
            "Requirement already satisfied: scipy in /usr/local/lib/python3.7/dist-packages (from ndlib) (1.4.1)\n",
            "Requirement already satisfied: networkx in /usr/local/lib/python3.7/dist-packages (from ndlib) (2.6.3)\n",
            "Requirement already satisfied: future in /usr/local/lib/python3.7/dist-packages (from ndlib) (0.16.0)\n",
            "Requirement already satisfied: bokeh in /usr/local/lib/python3.7/dist-packages (from ndlib) (2.3.3)\n",
            "Collecting netdispatch\n",
            "  Downloading netdispatch-0.1.0-py3-none-any.whl (3.3 kB)\n",
            "Requirement already satisfied: PyYAML>=3.10 in /usr/local/lib/python3.7/dist-packages (from bokeh->ndlib) (3.13)\n",
            "Requirement already satisfied: pillow>=7.1.0 in /usr/local/lib/python3.7/dist-packages (from bokeh->ndlib) (7.1.2)\n",
            "Requirement already satisfied: Jinja2>=2.9 in /usr/local/lib/python3.7/dist-packages (from bokeh->ndlib) (2.11.3)\n",
            "Requirement already satisfied: typing-extensions>=3.7.4 in /usr/local/lib/python3.7/dist-packages (from bokeh->ndlib) (4.1.1)\n",
            "Requirement already satisfied: python-dateutil>=2.1 in /usr/local/lib/python3.7/dist-packages (from bokeh->ndlib) (2.8.2)\n",
            "Requirement already satisfied: packaging>=16.8 in /usr/local/lib/python3.7/dist-packages (from bokeh->ndlib) (21.3)\n",
            "Requirement already satisfied: tornado>=5.1 in /usr/local/lib/python3.7/dist-packages (from bokeh->ndlib) (5.1.1)\n",
            "Requirement already satisfied: MarkupSafe>=0.23 in /usr/local/lib/python3.7/dist-packages (from Jinja2>=2.9->bokeh->ndlib) (2.0.1)\n",
            "Requirement already satisfied: pyparsing!=3.0.5,>=2.0.2 in /usr/local/lib/python3.7/dist-packages (from packaging>=16.8->bokeh->ndlib) (3.0.9)\n",
            "Requirement already satisfied: six>=1.5 in /usr/local/lib/python3.7/dist-packages (from python-dateutil>=2.1->bokeh->ndlib) (1.15.0)\n",
            "Requirement already satisfied: decorator in /usr/local/lib/python3.7/dist-packages (from dynetx->ndlib) (4.4.2)\n",
            "Requirement already satisfied: tqdm in /usr/local/lib/python3.7/dist-packages (from dynetx->ndlib) (4.64.0)\n",
            "Collecting igraph==0.9.11\n",
            "  Downloading igraph-0.9.11-cp37-cp37m-manylinux_2_17_x86_64.manylinux2014_x86_64.whl (3.1 MB)\n",
            "\u001b[K     |████████████████████████████████| 3.1 MB 22.1 MB/s \n",
            "\u001b[?25hCollecting texttable>=1.6.2\n",
            "  Downloading texttable-1.6.4-py2.py3-none-any.whl (10 kB)\n",
            "Building wheels for collected packages: python-igraph\n",
            "  Building wheel for python-igraph (setup.py) ... \u001b[?25l\u001b[?25hdone\n",
            "  Created wheel for python-igraph: filename=python_igraph-0.9.11-py3-none-any.whl size=9074 sha256=29756b3b8c1d23a2e8a5c41bec5b1f1c92a241ee3c9c44e73073a43db73d0f99\n",
            "  Stored in directory: /root/.cache/pip/wheels/7d/e4/0c/0c83f70bd0b99ce8aea47a21f8e52502169e7dd17808d12f30\n",
            "Successfully built python-igraph\n",
            "Installing collected packages: texttable, igraph, python-igraph, netdispatch, dynetx, ndlib\n",
            "Successfully installed dynetx-0.3.1 igraph-0.9.11 ndlib-5.1.1 netdispatch-0.1.0 python-igraph-0.9.11 texttable-1.6.4\n"
          ]
        }
      ],
      "source": [
        "pip install ndlib"
      ]
    },
    {
      "cell_type": "code",
      "execution_count": 2,
      "metadata": {
        "id": "iSgDOIyE_gdW"
      },
      "outputs": [],
      "source": [
        "import pandas as pd \n",
        "import networkx as nx\n",
        "import matplotlib.pyplot as plt\n",
        "import numpy as np\n",
        "import ndlib.models.ModelConfig as mc\n",
        "import ndlib.models.epidemics as ep"
      ]
    },
    {
      "cell_type": "code",
      "execution_count": 3,
      "metadata": {
        "id": "prbhDeyJ7y9l"
      },
      "outputs": [],
      "source": [
        "k_top10=pd.read_csv(\"score_facebook.csv\")\n",
        "G= nx.read_edgelist(\"facebook_combined.txt\", nodetype = int)"
      ]
    },
    {
      "cell_type": "code",
      "execution_count": 4,
      "metadata": {
        "colab": {
          "base_uri": "https://localhost:8080/",
          "height": 363
        },
        "id": "nj-l-10_8Acu",
        "outputId": "eb8f0d80-c46b-4b08-88d9-333de8b1cc8d"
      },
      "outputs": [
        {
          "output_type": "execute_result",
          "data": {
            "text/plain": [
              "   Unnamed: 0  Unnamed: 0.1    BC    CC    EC    DC  TOPSIS  k_means  \\\n",
              "0           0             0   107   107  1912   107     107      107   \n",
              "1           1             1  1684  1684  2266  1684    1684     1684   \n",
              "2           2             2  1912    58  2233  1912    1912     1912   \n",
              "3           3             3  3437   428  2206  3437    3437     3437   \n",
              "4           4             4     0   563  2142     0       0      567   \n",
              "5           5             5  1085   414  2218  2347    1085     1465   \n",
              "6           6             6   698   348  2078  2543     698     3758   \n",
              "7           7             7   567   483  2464  1888     567      487   \n",
              "8           8             8    58   376  2123  1800      58     1456   \n",
              "9           9             9   428   171  1993  1663     428     1543   \n",
              "\n",
              "   k_means with score  \n",
              "0                 213  \n",
              "1                2609  \n",
              "2                2609  \n",
              "3                2609  \n",
              "4                2239  \n",
              "5                2609  \n",
              "6                2609  \n",
              "7                2239  \n",
              "8                2609  \n",
              "9                 213  "
            ],
            "text/html": [
              "\n",
              "  <div id=\"df-7fedb195-11ba-452d-8bdf-6e4f9a0c8254\">\n",
              "    <div class=\"colab-df-container\">\n",
              "      <div>\n",
              "<style scoped>\n",
              "    .dataframe tbody tr th:only-of-type {\n",
              "        vertical-align: middle;\n",
              "    }\n",
              "\n",
              "    .dataframe tbody tr th {\n",
              "        vertical-align: top;\n",
              "    }\n",
              "\n",
              "    .dataframe thead th {\n",
              "        text-align: right;\n",
              "    }\n",
              "</style>\n",
              "<table border=\"1\" class=\"dataframe\">\n",
              "  <thead>\n",
              "    <tr style=\"text-align: right;\">\n",
              "      <th></th>\n",
              "      <th>Unnamed: 0</th>\n",
              "      <th>Unnamed: 0.1</th>\n",
              "      <th>BC</th>\n",
              "      <th>CC</th>\n",
              "      <th>EC</th>\n",
              "      <th>DC</th>\n",
              "      <th>TOPSIS</th>\n",
              "      <th>k_means</th>\n",
              "      <th>k_means with score</th>\n",
              "    </tr>\n",
              "  </thead>\n",
              "  <tbody>\n",
              "    <tr>\n",
              "      <th>0</th>\n",
              "      <td>0</td>\n",
              "      <td>0</td>\n",
              "      <td>107</td>\n",
              "      <td>107</td>\n",
              "      <td>1912</td>\n",
              "      <td>107</td>\n",
              "      <td>107</td>\n",
              "      <td>107</td>\n",
              "      <td>213</td>\n",
              "    </tr>\n",
              "    <tr>\n",
              "      <th>1</th>\n",
              "      <td>1</td>\n",
              "      <td>1</td>\n",
              "      <td>1684</td>\n",
              "      <td>1684</td>\n",
              "      <td>2266</td>\n",
              "      <td>1684</td>\n",
              "      <td>1684</td>\n",
              "      <td>1684</td>\n",
              "      <td>2609</td>\n",
              "    </tr>\n",
              "    <tr>\n",
              "      <th>2</th>\n",
              "      <td>2</td>\n",
              "      <td>2</td>\n",
              "      <td>1912</td>\n",
              "      <td>58</td>\n",
              "      <td>2233</td>\n",
              "      <td>1912</td>\n",
              "      <td>1912</td>\n",
              "      <td>1912</td>\n",
              "      <td>2609</td>\n",
              "    </tr>\n",
              "    <tr>\n",
              "      <th>3</th>\n",
              "      <td>3</td>\n",
              "      <td>3</td>\n",
              "      <td>3437</td>\n",
              "      <td>428</td>\n",
              "      <td>2206</td>\n",
              "      <td>3437</td>\n",
              "      <td>3437</td>\n",
              "      <td>3437</td>\n",
              "      <td>2609</td>\n",
              "    </tr>\n",
              "    <tr>\n",
              "      <th>4</th>\n",
              "      <td>4</td>\n",
              "      <td>4</td>\n",
              "      <td>0</td>\n",
              "      <td>563</td>\n",
              "      <td>2142</td>\n",
              "      <td>0</td>\n",
              "      <td>0</td>\n",
              "      <td>567</td>\n",
              "      <td>2239</td>\n",
              "    </tr>\n",
              "    <tr>\n",
              "      <th>5</th>\n",
              "      <td>5</td>\n",
              "      <td>5</td>\n",
              "      <td>1085</td>\n",
              "      <td>414</td>\n",
              "      <td>2218</td>\n",
              "      <td>2347</td>\n",
              "      <td>1085</td>\n",
              "      <td>1465</td>\n",
              "      <td>2609</td>\n",
              "    </tr>\n",
              "    <tr>\n",
              "      <th>6</th>\n",
              "      <td>6</td>\n",
              "      <td>6</td>\n",
              "      <td>698</td>\n",
              "      <td>348</td>\n",
              "      <td>2078</td>\n",
              "      <td>2543</td>\n",
              "      <td>698</td>\n",
              "      <td>3758</td>\n",
              "      <td>2609</td>\n",
              "    </tr>\n",
              "    <tr>\n",
              "      <th>7</th>\n",
              "      <td>7</td>\n",
              "      <td>7</td>\n",
              "      <td>567</td>\n",
              "      <td>483</td>\n",
              "      <td>2464</td>\n",
              "      <td>1888</td>\n",
              "      <td>567</td>\n",
              "      <td>487</td>\n",
              "      <td>2239</td>\n",
              "    </tr>\n",
              "    <tr>\n",
              "      <th>8</th>\n",
              "      <td>8</td>\n",
              "      <td>8</td>\n",
              "      <td>58</td>\n",
              "      <td>376</td>\n",
              "      <td>2123</td>\n",
              "      <td>1800</td>\n",
              "      <td>58</td>\n",
              "      <td>1456</td>\n",
              "      <td>2609</td>\n",
              "    </tr>\n",
              "    <tr>\n",
              "      <th>9</th>\n",
              "      <td>9</td>\n",
              "      <td>9</td>\n",
              "      <td>428</td>\n",
              "      <td>171</td>\n",
              "      <td>1993</td>\n",
              "      <td>1663</td>\n",
              "      <td>428</td>\n",
              "      <td>1543</td>\n",
              "      <td>213</td>\n",
              "    </tr>\n",
              "  </tbody>\n",
              "</table>\n",
              "</div>\n",
              "      <button class=\"colab-df-convert\" onclick=\"convertToInteractive('df-7fedb195-11ba-452d-8bdf-6e4f9a0c8254')\"\n",
              "              title=\"Convert this dataframe to an interactive table.\"\n",
              "              style=\"display:none;\">\n",
              "        \n",
              "  <svg xmlns=\"http://www.w3.org/2000/svg\" height=\"24px\"viewBox=\"0 0 24 24\"\n",
              "       width=\"24px\">\n",
              "    <path d=\"M0 0h24v24H0V0z\" fill=\"none\"/>\n",
              "    <path d=\"M18.56 5.44l.94 2.06.94-2.06 2.06-.94-2.06-.94-.94-2.06-.94 2.06-2.06.94zm-11 1L8.5 8.5l.94-2.06 2.06-.94-2.06-.94L8.5 2.5l-.94 2.06-2.06.94zm10 10l.94 2.06.94-2.06 2.06-.94-2.06-.94-.94-2.06-.94 2.06-2.06.94z\"/><path d=\"M17.41 7.96l-1.37-1.37c-.4-.4-.92-.59-1.43-.59-.52 0-1.04.2-1.43.59L10.3 9.45l-7.72 7.72c-.78.78-.78 2.05 0 2.83L4 21.41c.39.39.9.59 1.41.59.51 0 1.02-.2 1.41-.59l7.78-7.78 2.81-2.81c.8-.78.8-2.07 0-2.86zM5.41 20L4 18.59l7.72-7.72 1.47 1.35L5.41 20z\"/>\n",
              "  </svg>\n",
              "      </button>\n",
              "      \n",
              "  <style>\n",
              "    .colab-df-container {\n",
              "      display:flex;\n",
              "      flex-wrap:wrap;\n",
              "      gap: 12px;\n",
              "    }\n",
              "\n",
              "    .colab-df-convert {\n",
              "      background-color: #E8F0FE;\n",
              "      border: none;\n",
              "      border-radius: 50%;\n",
              "      cursor: pointer;\n",
              "      display: none;\n",
              "      fill: #1967D2;\n",
              "      height: 32px;\n",
              "      padding: 0 0 0 0;\n",
              "      width: 32px;\n",
              "    }\n",
              "\n",
              "    .colab-df-convert:hover {\n",
              "      background-color: #E2EBFA;\n",
              "      box-shadow: 0px 1px 2px rgba(60, 64, 67, 0.3), 0px 1px 3px 1px rgba(60, 64, 67, 0.15);\n",
              "      fill: #174EA6;\n",
              "    }\n",
              "\n",
              "    [theme=dark] .colab-df-convert {\n",
              "      background-color: #3B4455;\n",
              "      fill: #D2E3FC;\n",
              "    }\n",
              "\n",
              "    [theme=dark] .colab-df-convert:hover {\n",
              "      background-color: #434B5C;\n",
              "      box-shadow: 0px 1px 3px 1px rgba(0, 0, 0, 0.15);\n",
              "      filter: drop-shadow(0px 1px 2px rgba(0, 0, 0, 0.3));\n",
              "      fill: #FFFFFF;\n",
              "    }\n",
              "  </style>\n",
              "\n",
              "      <script>\n",
              "        const buttonEl =\n",
              "          document.querySelector('#df-7fedb195-11ba-452d-8bdf-6e4f9a0c8254 button.colab-df-convert');\n",
              "        buttonEl.style.display =\n",
              "          google.colab.kernel.accessAllowed ? 'block' : 'none';\n",
              "\n",
              "        async function convertToInteractive(key) {\n",
              "          const element = document.querySelector('#df-7fedb195-11ba-452d-8bdf-6e4f9a0c8254');\n",
              "          const dataTable =\n",
              "            await google.colab.kernel.invokeFunction('convertToInteractive',\n",
              "                                                     [key], {});\n",
              "          if (!dataTable) return;\n",
              "\n",
              "          const docLinkHtml = 'Like what you see? Visit the ' +\n",
              "            '<a target=\"_blank\" href=https://colab.research.google.com/notebooks/data_table.ipynb>data table notebook</a>'\n",
              "            + ' to learn more about interactive tables.';\n",
              "          element.innerHTML = '';\n",
              "          dataTable['output_type'] = 'display_data';\n",
              "          await google.colab.output.renderOutput(dataTable, element);\n",
              "          const docLink = document.createElement('div');\n",
              "          docLink.innerHTML = docLinkHtml;\n",
              "          element.appendChild(docLink);\n",
              "        }\n",
              "      </script>\n",
              "    </div>\n",
              "  </div>\n",
              "  "
            ]
          },
          "metadata": {},
          "execution_count": 4
        }
      ],
      "source": [
        "k_top10"
      ]
    },
    {
      "cell_type": "code",
      "execution_count": 5,
      "metadata": {
        "id": "AnTAgU_OBb6O"
      },
      "outputs": [],
      "source": [
        "\n",
        "def si_model(measure):\n",
        "    top=set(k_top10[measure].values.tolist())\n",
        "    model = ep.SIModel(G)\n",
        "    # Model Configuration\n",
        "    cfg = mc.Configuration()\n",
        "    cfg.add_model_parameter('beta',1)\n",
        "    cfg.add_model_initial_configuration(\"Infected\", top)\n",
        "    model.set_initial_status(cfg)\n",
        "    iterations = model.iteration_bunch(100)\n",
        "    S=[]\n",
        "    I=[]\n",
        "    it=[]\n",
        "    for t in iterations:\n",
        "        S.append(t['node_count'][0])\n",
        "        I.append(t['node_count'][1])\n",
        "        it.append(t['iteration'])\n",
        "        if t['node_count'][1]==4039:\n",
        "            break\n",
        "    row=[it,I,S]\n",
        "    return(row)\n"
      ]
    },
    {
      "cell_type": "code",
      "execution_count": 7,
      "metadata": {
        "id": "Cx4jjAgyCLjV"
      },
      "outputs": [],
      "source": [
        "DC=[]\n",
        "CC=[]\n",
        "BC=[]\n",
        "EC=[]\n",
        "TOPSIS=[]\n",
        "KMEANS=[]\n",
        "KMEANS2=[]\n",
        "#for i in r\n",
        "DC.append(si_model('DC'))\n",
        "CC.append(si_model('CC'))\n",
        "BC.append(si_model('BC'))\n",
        "EC.append(si_model('EC'))\n",
        "TOPSIS.append(si_model('TOPSIS'))\n",
        "KMEANS.append(si_model('k_means'))\n",
        "KMEANS2.append(si_model('k_means with score'))"
      ]
    },
    {
      "cell_type": "code",
      "execution_count": 8,
      "metadata": {
        "colab": {
          "base_uri": "https://localhost:8080/"
        },
        "id": "gAIQeG5WCN1k",
        "outputId": "62adba74-562a-4696-8598-2f5f48ff8c56"
      },
      "outputs": [
        {
          "output_type": "execute_result",
          "data": {
            "text/plain": [
              "[[[0, 1, 2, 3, 4], [10, 3463, 3838, 3984, 4039], [4029, 576, 201, 55, 0]]]"
            ]
          },
          "metadata": {},
          "execution_count": 8
        }
      ],
      "source": [
        "DC"
      ]
    },
    {
      "cell_type": "code",
      "execution_count": 9,
      "metadata": {
        "id": "VHojsOFOBj3N"
      },
      "outputs": [],
      "source": [
        "def Std_mean(lis):\n",
        "    dc={}\n",
        "    for i in range(1):\n",
        "        for j in range(len(lis[i][0])):\n",
        "            dc[lis[i][0][j]]=[]\n",
        "\n",
        "    for i in range(1):\n",
        "        for j in range(len(lis[i][0])):\n",
        "            dc[lis[i][0][j]].append(lis[i][1][j])\n",
        "    return dc\n"
      ]
    },
    {
      "cell_type": "code",
      "execution_count": 10,
      "metadata": {
        "id": "bRNqns6ACA61"
      },
      "outputs": [],
      "source": [
        "stdsDC=[]\n",
        "meansDC=[]\n",
        "dc=Std_mean(DC)\n",
        "for i in dc:\n",
        "    stdsDC.append(np.std(dc[i]))\n",
        "    meansDC.append(np.mean(dc[i]))\n"
      ]
    },
    {
      "cell_type": "code",
      "execution_count": 11,
      "metadata": {
        "colab": {
          "base_uri": "https://localhost:8080/"
        },
        "id": "p4fAxti1CC09",
        "outputId": "0db4816d-ff37-4b77-d912-17db6a3b41ba"
      },
      "outputs": [
        {
          "output_type": "execute_result",
          "data": {
            "text/plain": [
              "{0: [10], 1: [3463], 2: [3838], 3: [3984], 4: [4039]}"
            ]
          },
          "metadata": {},
          "execution_count": 11
        }
      ],
      "source": [
        "dc"
      ]
    },
    {
      "cell_type": "code",
      "execution_count": 12,
      "metadata": {
        "id": "RDE6wQtH_I-h"
      },
      "outputs": [],
      "source": [
        "stdsCC=[]\n",
        "meansCC=[]\n",
        "d=Std_mean(CC)\n",
        "for i in d:\n",
        "    stdsCC.append(np.std(d[i]))\n",
        "    meansCC.append(np.mean(d[i]))\n",
        "\n",
        "stdsEC=[]\n",
        "meansEC=[]\n",
        "d=Std_mean(EC)\n",
        "for i in d:\n",
        "    stdsEC.append(np.std(d[i]))\n",
        "    meansEC.append(np.mean(d[i]))\n",
        "\n",
        "stdsBC=[]\n",
        "meansBC=[]\n",
        "d=Std_mean(BC)\n",
        "for i in d:\n",
        "    stdsBC.append(np.std(d[i]))\n",
        "    meansBC.append(np.mean(d[i]))\n",
        "\n",
        "stdsTOPSIS=[]\n",
        "meansTOPSIS=[]\n",
        "d=Std_mean(TOPSIS)\n",
        "for i in d:\n",
        "    stdsTOPSIS.append(np.std(d[i]))\n",
        "    meansTOPSIS.append(np.mean(d[i]))\n",
        "\n",
        "dc=Std_mean(DC)\n",
        "cc=Std_mean(CC)\n",
        "ec=Std_mean(EC)\n",
        "bc=Std_mean(BC)\n",
        "topsis=Std_mean(TOPSIS)\n",
        "\n",
        "\n"
      ]
    },
    {
      "cell_type": "code",
      "execution_count": 13,
      "metadata": {
        "id": "ArjyeKWy-H7M"
      },
      "outputs": [],
      "source": [
        "stdsKMEANS=[]\n",
        "meansKMEANS=[]\n",
        "d=Std_mean(KMEANS)\n",
        "for i in d:\n",
        "    stdsKMEANS.append(np.std(d[i]))\n",
        "    meansKMEANS.append(np.mean(d[i]))\n",
        "    \n",
        "    "
      ]
    },
    {
      "cell_type": "code",
      "execution_count": 14,
      "metadata": {
        "id": "-kzmYhfK1XGU"
      },
      "outputs": [],
      "source": [
        "stdsKMEANS2=[]\n",
        "meansKMEANS2=[]\n",
        "d=Std_mean(KMEANS2)\n",
        "for i in d:\n",
        "    stdsKMEANS2.append(np.std(d[i]))\n",
        "    meansKMEANS2.append(np.mean(d[i]))\n",
        "    "
      ]
    },
    {
      "cell_type": "code",
      "execution_count": 15,
      "metadata": {
        "id": "khxT5jgg8jdQ"
      },
      "outputs": [],
      "source": [
        "dc=Std_mean(DC)\n",
        "cc=Std_mean(CC)\n",
        "ec=Std_mean(EC)\n",
        "bc=Std_mean(BC)\n",
        "topsis=Std_mean(TOPSIS)\n",
        "kmeans=Std_mean(KMEANS)\n",
        "kmeans2=Std_mean(KMEANS2)"
      ]
    },
    {
      "cell_type": "code",
      "execution_count": 17,
      "metadata": {
        "colab": {
          "base_uri": "https://localhost:8080/",
          "height": 571
        },
        "id": "0JcXyWJFZvGb",
        "outputId": "aa0f29e2-97f7-49c4-fbc9-2a4538677d54"
      },
      "outputs": [
        {
          "output_type": "execute_result",
          "data": {
            "text/plain": [
              "<matplotlib.legend.Legend at 0x7fe5c0446990>"
            ]
          },
          "metadata": {},
          "execution_count": 17
        },
        {
          "output_type": "display_data",
          "data": {
            "text/plain": [
              "<Figure size 1080x648 with 1 Axes>"
            ],
            "image/png": "[encoded data removed]"
          },
          "metadata": {
            "needs_background": "light"
          }
        }
      ],
      "source": [
        "fig = plt.subplots(figsize=(15, 9))\n",
        "\n",
        "plt.plot(sorted(topsis.keys()), meansTOPSIS, label='Topsis',c='blue')\n",
        "plt.errorbar(topsis.keys(), meansTOPSIS, yerr=stdsTOPSIS, fmt ='.k')\n",
        "plt.plot(sorted(kmeans.keys()) , meansKMEANS, label='k_means',c='red')\n",
        "plt.errorbar(sorted(kmeans.keys()) , meansKMEANS, yerr=stdsKMEANS, fmt ='.k')\n",
        "plt.plot(sorted(kmeans2.keys()) , meansKMEANS2, label='k_means with score',c='green')\n",
        "plt.errorbar(sorted(kmeans2.keys()) , meansKMEANS2, yerr=stdsKMEANS2, fmt ='.k')\n",
        "plt.title('topsis vs k_kmeans vs k_means whit score')\n",
        "\n",
        "plt.legend()"
      ]
    }
  ],
  "metadata": {
    "colab": {
      "collapsed_sections": [],
      "name": "si_modelk_means___avec_score facebook.ipynb",
      "provenance": []
    },
    "kernelspec": {
      "display_name": "Python 3",
      "name": "python3"
    }
  },
  "nbformat": 4,
  "nbformat_minor": 0
}