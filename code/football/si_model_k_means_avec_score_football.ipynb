{
  "cells": [
    {
      "cell_type": "code",
      "execution_count": 2,
      "metadata": {
        "colab": {
          "base_uri": "https://localhost:8080/"
        },
        "id": "QIQ0sb5h_e_5",
        "outputId": "bea52ebe-adca-4cdc-e76c-75a494992253"
      },
      "outputs": [
        {
          "output_type": "stream",
          "name": "stdout",
          "text": [
            "Looking in indexes: https://pypi.org/simple, https://us-python.pkg.dev/colab-wheels/public/simple/\n",
            "Requirement already satisfied: ndlib in /usr/local/lib/python3.7/dist-packages (5.1.1)\n",
            "Requirement already satisfied: future in /usr/local/lib/python3.7/dist-packages (from ndlib) (0.16.0)\n",
            "Requirement already satisfied: scipy in /usr/local/lib/python3.7/dist-packages (from ndlib) (1.4.1)\n",
            "Requirement already satisfied: networkx in /usr/local/lib/python3.7/dist-packages (from ndlib) (2.6.3)\n",
            "Requirement already satisfied: bokeh in /usr/local/lib/python3.7/dist-packages (from ndlib) (2.3.3)\n",
            "Requirement already satisfied: numpy in /usr/local/lib/python3.7/dist-packages (from ndlib) (1.21.6)\n",
            "Requirement already satisfied: netdispatch in /usr/local/lib/python3.7/dist-packages (from ndlib) (0.1.0)\n",
            "Requirement already satisfied: python-igraph in /usr/local/lib/python3.7/dist-packages (from ndlib) (0.9.11)\n",
            "Requirement already satisfied: dynetx in /usr/local/lib/python3.7/dist-packages (from ndlib) (0.3.1)\n",
            "Requirement already satisfied: tornado>=5.1 in /usr/local/lib/python3.7/dist-packages (from bokeh->ndlib) (5.1.1)\n",
            "Requirement already satisfied: pillow>=7.1.0 in /usr/local/lib/python3.7/dist-packages (from bokeh->ndlib) (7.1.2)\n",
            "Requirement already satisfied: typing-extensions>=3.7.4 in /usr/local/lib/python3.7/dist-packages (from bokeh->ndlib) (4.1.1)\n",
            "Requirement already satisfied: packaging>=16.8 in /usr/local/lib/python3.7/dist-packages (from bokeh->ndlib) (21.3)\n",
            "Requirement already satisfied: PyYAML>=3.10 in /usr/local/lib/python3.7/dist-packages (from bokeh->ndlib) (3.13)\n",
            "Requirement already satisfied: python-dateutil>=2.1 in /usr/local/lib/python3.7/dist-packages (from bokeh->ndlib) (2.8.2)\n",
            "Requirement already satisfied: Jinja2>=2.9 in /usr/local/lib/python3.7/dist-packages (from bokeh->ndlib) (2.11.3)\n",
            "Requirement already satisfied: MarkupSafe>=0.23 in /usr/local/lib/python3.7/dist-packages (from Jinja2>=2.9->bokeh->ndlib) (2.0.1)\n",
            "Requirement already satisfied: pyparsing!=3.0.5,>=2.0.2 in /usr/local/lib/python3.7/dist-packages (from packaging>=16.8->bokeh->ndlib) (3.0.9)\n",
            "Requirement already satisfied: six>=1.5 in /usr/local/lib/python3.7/dist-packages (from python-dateutil>=2.1->bokeh->ndlib) (1.15.0)\n",
            "Requirement already satisfied: decorator in /usr/local/lib/python3.7/dist-packages (from dynetx->ndlib) (4.4.2)\n",
            "Requirement already satisfied: tqdm in /usr/local/lib/python3.7/dist-packages (from dynetx->ndlib) (4.64.0)\n",
            "Requirement already satisfied: igraph==0.9.11 in /usr/local/lib/python3.7/dist-packages (from python-igraph->ndlib) (0.9.11)\n",
            "Requirement already satisfied: texttable>=1.6.2 in /usr/local/lib/python3.7/dist-packages (from igraph==0.9.11->python-igraph->ndlib) (1.6.4)\n"
          ]
        }
      ],
      "source": [
        "pip install ndlib"
      ]
    },
    {
      "cell_type": "code",
      "execution_count": 3,
      "metadata": {
        "id": "iSgDOIyE_gdW"
      },
      "outputs": [],
      "source": [
        "import pandas as pd \n",
        "import networkx as nx\n",
        "import matplotlib.pyplot as plt\n",
        "import numpy as np\n",
        "import ndlib.models.ModelConfig as mc\n",
        "import ndlib.models.epidemics as ep"
      ]
    },
    {
      "cell_type": "code",
      "execution_count": 4,
      "metadata": {
        "id": "prbhDeyJ7y9l"
      },
      "outputs": [],
      "source": [
        "k_top10=pd.read_csv(\"score_football.csv\")\n",
        "G= nx.read_edgelist(\"football.txt\", nodetype = int)"
      ]
    },
    {
      "cell_type": "code",
      "execution_count": 5,
      "metadata": {
        "colab": {
          "base_uri": "https://localhost:8080/",
          "height": 363
        },
        "id": "nj-l-10_8Acu",
        "outputId": "a5ec3c18-7311-4e4e-e3b3-9fa637051cdc"
      },
      "outputs": [
        {
          "output_type": "execute_result",
          "data": {
            "text/plain": [
              "   Unnamed: 0  Unnamed: 0.1   BC   CC   EC  TOPSIS  k_means  \\\n",
              "0           0             0    0    0   28       0     28.0   \n",
              "1           1             1   64  106  114      64      4.0   \n",
              "2           2             2  106   41  103     106     80.0   \n",
              "3           3             3   41   80   52      41     67.0   \n",
              "4           4             4   74    4   82      74     49.0   \n",
              "5           5             5   46   28  101      46      9.0   \n",
              "6           6             6   80  114   81      80     94.0   \n",
              "7           7             7   24   35  108      24     59.0   \n",
              "8           8             8   83   25   61      83    104.0   \n",
              "9           9             9    4   67  113       4     34.0   \n",
              "\n",
              "   k_means with score  \n",
              "0                95.0  \n",
              "1                19.0  \n",
              "2                39.0  \n",
              "3                16.0  \n",
              "4                99.0  \n",
              "5                18.0  \n",
              "6                51.0  \n",
              "7                16.0  \n",
              "8                 7.0  \n",
              "9                55.0  "
            ],
            "text/html": [
              "\n",
              "  <div id=\"df-fc0e4cb1-ca4c-49e1-8cf1-4e47c7c81965\">\n",
              "    <div class=\"colab-df-container\">\n",
              "      <div>\n",
              "<style scoped>\n",
              "    .dataframe tbody tr th:only-of-type {\n",
              "        vertical-align: middle;\n",
              "    }\n",
              "\n",
              "    .dataframe tbody tr th {\n",
              "        vertical-align: top;\n",
              "    }\n",
              "\n",
              "    .dataframe thead th {\n",
              "        text-align: right;\n",
              "    }\n",
              "</style>\n",
              "<table border=\"1\" class=\"dataframe\">\n",
              "  <thead>\n",
              "    <tr style=\"text-align: right;\">\n",
              "      <th></th>\n",
              "      <th>Unnamed: 0</th>\n",
              "      <th>Unnamed: 0.1</th>\n",
              "      <th>BC</th>\n",
              "      <th>CC</th>\n",
              "      <th>EC</th>\n",
              "      <th>TOPSIS</th>\n",
              "      <th>k_means</th>\n",
              "      <th>k_means with score</th>\n",
              "    </tr>\n",
              "  </thead>\n",
              "  <tbody>\n",
              "    <tr>\n",
              "      <th>0</th>\n",
              "      <td>0</td>\n",
              "      <td>0</td>\n",
              "      <td>0</td>\n",
              "      <td>0</td>\n",
              "      <td>28</td>\n",
              "      <td>0</td>\n",
              "      <td>28.0</td>\n",
              "      <td>95.0</td>\n",
              "    </tr>\n",
              "    <tr>\n",
              "      <th>1</th>\n",
              "      <td>1</td>\n",
              "      <td>1</td>\n",
              "      <td>64</td>\n",
              "      <td>106</td>\n",
              "      <td>114</td>\n",
              "      <td>64</td>\n",
              "      <td>4.0</td>\n",
              "      <td>19.0</td>\n",
              "    </tr>\n",
              "    <tr>\n",
              "      <th>2</th>\n",
              "      <td>2</td>\n",
              "      <td>2</td>\n",
              "      <td>106</td>\n",
              "      <td>41</td>\n",
              "      <td>103</td>\n",
              "      <td>106</td>\n",
              "      <td>80.0</td>\n",
              "      <td>39.0</td>\n",
              "    </tr>\n",
              "    <tr>\n",
              "      <th>3</th>\n",
              "      <td>3</td>\n",
              "      <td>3</td>\n",
              "      <td>41</td>\n",
              "      <td>80</td>\n",
              "      <td>52</td>\n",
              "      <td>41</td>\n",
              "      <td>67.0</td>\n",
              "      <td>16.0</td>\n",
              "    </tr>\n",
              "    <tr>\n",
              "      <th>4</th>\n",
              "      <td>4</td>\n",
              "      <td>4</td>\n",
              "      <td>74</td>\n",
              "      <td>4</td>\n",
              "      <td>82</td>\n",
              "      <td>74</td>\n",
              "      <td>49.0</td>\n",
              "      <td>99.0</td>\n",
              "    </tr>\n",
              "    <tr>\n",
              "      <th>5</th>\n",
              "      <td>5</td>\n",
              "      <td>5</td>\n",
              "      <td>46</td>\n",
              "      <td>28</td>\n",
              "      <td>101</td>\n",
              "      <td>46</td>\n",
              "      <td>9.0</td>\n",
              "      <td>18.0</td>\n",
              "    </tr>\n",
              "    <tr>\n",
              "      <th>6</th>\n",
              "      <td>6</td>\n",
              "      <td>6</td>\n",
              "      <td>80</td>\n",
              "      <td>114</td>\n",
              "      <td>81</td>\n",
              "      <td>80</td>\n",
              "      <td>94.0</td>\n",
              "      <td>51.0</td>\n",
              "    </tr>\n",
              "    <tr>\n",
              "      <th>7</th>\n",
              "      <td>7</td>\n",
              "      <td>7</td>\n",
              "      <td>24</td>\n",
              "      <td>35</td>\n",
              "      <td>108</td>\n",
              "      <td>24</td>\n",
              "      <td>59.0</td>\n",
              "      <td>16.0</td>\n",
              "    </tr>\n",
              "    <tr>\n",
              "      <th>8</th>\n",
              "      <td>8</td>\n",
              "      <td>8</td>\n",
              "      <td>83</td>\n",
              "      <td>25</td>\n",
              "      <td>61</td>\n",
              "      <td>83</td>\n",
              "      <td>104.0</td>\n",
              "      <td>7.0</td>\n",
              "    </tr>\n",
              "    <tr>\n",
              "      <th>9</th>\n",
              "      <td>9</td>\n",
              "      <td>9</td>\n",
              "      <td>4</td>\n",
              "      <td>67</td>\n",
              "      <td>113</td>\n",
              "      <td>4</td>\n",
              "      <td>34.0</td>\n",
              "      <td>55.0</td>\n",
              "    </tr>\n",
              "  </tbody>\n",
              "</table>\n",
              "</div>\n",
              "      <button class=\"colab-df-convert\" onclick=\"convertToInteractive('df-fc0e4cb1-ca4c-49e1-8cf1-4e47c7c81965')\"\n",
              "              title=\"Convert this dataframe to an interactive table.\"\n",
              "              style=\"display:none;\">\n",
              "        \n",
              "  <svg xmlns=\"http://www.w3.org/2000/svg\" height=\"24px\"viewBox=\"0 0 24 24\"\n",
              "       width=\"24px\">\n",
              "    <path d=\"M0 0h24v24H0V0z\" fill=\"none\"/>\n",
              "    <path d=\"M18.56 5.44l.94 2.06.94-2.06 2.06-.94-2.06-.94-.94-2.06-.94 2.06-2.06.94zm-11 1L8.5 8.5l.94-2.06 2.06-.94-2.06-.94L8.5 2.5l-.94 2.06-2.06.94zm10 10l.94 2.06.94-2.06 2.06-.94-2.06-.94-.94-2.06-.94 2.06-2.06.94z\"/><path d=\"M17.41 7.96l-1.37-1.37c-.4-.4-.92-.59-1.43-.59-.52 0-1.04.2-1.43.59L10.3 9.45l-7.72 7.72c-.78.78-.78 2.05 0 2.83L4 21.41c.39.39.9.59 1.41.59.51 0 1.02-.2 1.41-.59l7.78-7.78 2.81-2.81c.8-.78.8-2.07 0-2.86zM5.41 20L4 18.59l7.72-7.72 1.47 1.35L5.41 20z\"/>\n",
              "  </svg>\n",
              "      </button>\n",
              "      \n",
              "  <style>\n",
              "    .colab-df-container {\n",
              "      display:flex;\n",
              "      flex-wrap:wrap;\n",
              "      gap: 12px;\n",
              "    }\n",
              "\n",
              "    .colab-df-convert {\n",
              "      background-color: #E8F0FE;\n",
              "      border: none;\n",
              "      border-radius: 50%;\n",
              "      cursor: pointer;\n",
              "      display: none;\n",
              "      fill: #1967D2;\n",
              "      height: 32px;\n",
              "      padding: 0 0 0 0;\n",
              "      width: 32px;\n",
              "    }\n",
              "\n",
              "    .colab-df-convert:hover {\n",
              "      background-color: #E2EBFA;\n",
              "      box-shadow: 0px 1px 2px rgba(60, 64, 67, 0.3), 0px 1px 3px 1px rgba(60, 64, 67, 0.15);\n",
              "      fill: #174EA6;\n",
              "    }\n",
              "\n",
              "    [theme=dark] .colab-df-convert {\n",
              "      background-color: #3B4455;\n",
              "      fill: #D2E3FC;\n",
              "    }\n",
              "\n",
              "    [theme=dark] .colab-df-convert:hover {\n",
              "      background-color: #434B5C;\n",
              "      box-shadow: 0px 1px 3px 1px rgba(0, 0, 0, 0.15);\n",
              "      filter: drop-shadow(0px 1px 2px rgba(0, 0, 0, 0.3));\n",
              "      fill: #FFFFFF;\n",
              "    }\n",
              "  </style>\n",
              "\n",
              "      <script>\n",
              "        const buttonEl =\n",
              "          document.querySelector('#df-fc0e4cb1-ca4c-49e1-8cf1-4e47c7c81965 button.colab-df-convert');\n",
              "        buttonEl.style.display =\n",
              "          google.colab.kernel.accessAllowed ? 'block' : 'none';\n",
              "\n",
              "        async function convertToInteractive(key) {\n",
              "          const element = document.querySelector('#df-fc0e4cb1-ca4c-49e1-8cf1-4e47c7c81965');\n",
              "          const dataTable =\n",
              "            await google.colab.kernel.invokeFunction('convertToInteractive',\n",
              "                                                     [key], {});\n",
              "          if (!dataTable) return;\n",
              "\n",
              "          const docLinkHtml = 'Like what you see? Visit the ' +\n",
              "            '<a target=\"_blank\" href=https://colab.research.google.com/notebooks/data_table.ipynb>data table notebook</a>'\n",
              "            + ' to learn more about interactive tables.';\n",
              "          element.innerHTML = '';\n",
              "          dataTable['output_type'] = 'display_data';\n",
              "          await google.colab.output.renderOutput(dataTable, element);\n",
              "          const docLink = document.createElement('div');\n",
              "          docLink.innerHTML = docLinkHtml;\n",
              "          element.appendChild(docLink);\n",
              "        }\n",
              "      </script>\n",
              "    </div>\n",
              "  </div>\n",
              "  "
            ]
          },
          "metadata": {},
          "execution_count": 5
        }
      ],
      "source": [
        "k_top10"
      ]
    },
    {
      "cell_type": "code",
      "execution_count": 6,
      "metadata": {
        "id": "AnTAgU_OBb6O"
      },
      "outputs": [],
      "source": [
        "\n",
        "def si_model(measure):# fonction model si \n",
        "    top=set(k_top10[measure].values.tolist())\n",
        "    model = ep.SIModel(G)\n",
        "    # le model de  Configuration \n",
        "    cfg = mc.Configuration()\n",
        "    cfg.add_model_parameter('beta',0.3)\n",
        "    cfg.add_model_initial_configuration(\"Infected\", top)\n",
        "    model.set_initial_status(cfg)\n",
        "    iterations = model.iteration_bunch(10)\n",
        "    S=[]\n",
        "    I=[]\n",
        "    it=[]\n",
        "    for t in iterations:\n",
        "        S.append(t['node_count'][0])\n",
        "        I.append(t['node_count'][1])\n",
        "        it.append(t['iteration'])\n",
        "        if t['node_count'][1]==4039:\n",
        "            break\n",
        "    row=[it,I,S]\n",
        "    return(row)\n"
      ]
    },
    {
      "cell_type": "code",
      "execution_count": 8,
      "metadata": {
        "id": "Cx4jjAgyCLjV"
      },
      "outputs": [],
      "source": [
        "DC=[]\n",
        "CC=[]\n",
        "BC=[]\n",
        "EC=[]\n",
        "TOPSIS=[]\n",
        "KMEANS=[]\n",
        "KMEANS2=[]\n",
        "#for i in r\n",
        "\n",
        "CC.append(si_model('CC'))\n",
        "BC.append(si_model('BC'))\n",
        "EC.append(si_model('EC'))\n",
        "TOPSIS.append(si_model('TOPSIS'))\n",
        "KMEANS.append(si_model('k_means'))\n",
        "KMEANS2.append(si_model('k_means with score'))"
      ]
    },
    {
      "cell_type": "code",
      "execution_count": 9,
      "metadata": {
        "id": "VHojsOFOBj3N"
      },
      "outputs": [],
      "source": [
        "def Std_mean(lis):\n",
        "    dc={}\n",
        "    for i in range(1):\n",
        "        for j in range(len(lis[i][0])):\n",
        "            dc[lis[i][0][j]]=[]\n",
        "\n",
        "    for i in range(1):\n",
        "        for j in range(len(lis[i][0])):\n",
        "            dc[lis[i][0][j]].append(lis[i][1][j])\n",
        "    return dc\n"
      ]
    },
    {
      "cell_type": "code",
      "execution_count": 10,
      "metadata": {
        "id": "lxp16cOGV6Ce"
      },
      "outputs": [],
      "source": [
        "stdsCC=[]\n",
        "meansCC=[]\n",
        "d=Std_mean(CC)\n",
        "for i in d:\n",
        "    stdsCC.append(np.std(d[i]))\n",
        "    meansCC.append(np.mean(d[i]))\n"
      ]
    },
    {
      "cell_type": "code",
      "execution_count": 11,
      "metadata": {
        "id": "RDE6wQtH_I-h"
      },
      "outputs": [],
      "source": [
        "\n",
        "stdsEC=[]\n",
        "meansEC=[]\n",
        "d=Std_mean(EC)\n",
        "for i in d:\n",
        "    stdsEC.append(np.std(d[i]))\n",
        "    meansEC.append(np.mean(d[i]))\n",
        "\n",
        "stdsBC=[]\n",
        "meansBC=[]\n",
        "d=Std_mean(BC)\n",
        "for i in d:\n",
        "    stdsBC.append(np.std(d[i]))\n",
        "    meansBC.append(np.mean(d[i]))\n",
        "\n",
        "stdsTOPSIS=[]\n",
        "meansTOPSIS=[]\n",
        "d=Std_mean(TOPSIS)\n",
        "for i in d:\n",
        "    stdsTOPSIS.append(np.std(d[i]))\n",
        "    meansTOPSIS.append(np.mean(d[i]))\n",
        "\n",
        "\n",
        "cc=Std_mean(CC)\n",
        "ec=Std_mean(EC)\n",
        "bc=Std_mean(BC)\n",
        "topsis=Std_mean(TOPSIS)\n",
        "\n",
        "\n"
      ]
    },
    {
      "cell_type": "code",
      "execution_count": 12,
      "metadata": {
        "id": "ArjyeKWy-H7M"
      },
      "outputs": [],
      "source": [
        "stdsKMEANS=[]\n",
        "meansKMEANS=[]\n",
        "d=Std_mean(KMEANS)\n",
        "for i in d:\n",
        "    stdsKMEANS.append(np.std(d[i]))\n",
        "    meansKMEANS.append(np.mean(d[i]))\n",
        "    \n",
        "    "
      ]
    },
    {
      "cell_type": "code",
      "execution_count": 13,
      "metadata": {
        "id": "eHynMJM4mPmz"
      },
      "outputs": [],
      "source": [
        "stdsKMEANS2=[]\n",
        "meansKMEANS2=[]\n",
        "d=Std_mean(KMEANS2)\n",
        "for i in d:\n",
        "    stdsKMEANS2.append(np.std(d[i]))\n",
        "    meansKMEANS2.append(np.mean(d[i]))"
      ]
    },
    {
      "cell_type": "code",
      "execution_count": 14,
      "metadata": {
        "id": "khxT5jgg8jdQ"
      },
      "outputs": [],
      "source": [
        "\n",
        "cc=Std_mean(CC)\n",
        "ec=Std_mean(EC)\n",
        "bc=Std_mean(BC)\n",
        "topsis=Std_mean(TOPSIS)\n",
        "kmeans=Std_mean(KMEANS)\n",
        "kmeans2=Std_mean(KMEANS2)\n"
      ]
    },
    {
      "cell_type": "code",
      "execution_count": 16,
      "metadata": {
        "colab": {
          "base_uri": "https://localhost:8080/",
          "height": 571
        },
        "id": "RAMGuVu0miSL",
        "outputId": "afe25b25-1d2f-4e6f-8cc1-c189ba5d294a"
      },
      "outputs": [
        {
          "output_type": "execute_result",
          "data": {
            "text/plain": [
              "<matplotlib.legend.Legend at 0x7f39e1fcad50>"
            ]
          },
          "metadata": {},
          "execution_count": 16
        },
        {
          "output_type": "display_data",
          "data": {
            "text/plain": [
              "<Figure size 1080x648 with 1 Axes>"
            ],
            "image/png": "[encoded data removed]"
          },
          "metadata": {
            "needs_background": "light"
          }
        }
      ],
      "source": [
        "fig = plt.subplots(figsize=(15, 9))\n",
        "\n",
        "plt.plot(sorted(kmeans.keys()) , meansKMEANS, label='k_means',c='green')\n",
        "plt.errorbar(sorted(kmeans.keys()) , meansKMEANS, yerr=stdsKMEANS, fmt ='.k')\n",
        "plt.plot(sorted(kmeans2.keys()) , meansKMEANS2, label='k_means with score',c='red')\n",
        "plt.errorbar(sorted(kmeans2.keys()) , meansKMEANS2, yerr=stdsKMEANS, fmt ='.k')\n",
        "plt.title('k_means vs k_kmeans with score')\n",
        "\n",
        "plt.legend()"
      ]
    },
    {
      "cell_type": "code",
      "execution_count": 17,
      "metadata": {
        "colab": {
          "base_uri": "https://localhost:8080/",
          "height": 571
        },
        "id": "OyAT68XHHgtn",
        "outputId": "67acb25b-5b73-4640-8c61-d84bf15f7149"
      },
      "outputs": [
        {
          "output_type": "execute_result",
          "data": {
            "text/plain": [
              "<matplotlib.legend.Legend at 0x7f39e19c94d0>"
            ]
          },
          "metadata": {},
          "execution_count": 17
        },
        {
          "output_type": "display_data",
          "data": {
            "text/plain": [
              "<Figure size 1080x648 with 1 Axes>"
            ],
            "image/png": "[encoded data removed]"
          },
          "metadata": {
            "needs_background": "light"
          }
        }
      ],
      "source": [
        "fig = plt.subplots(figsize=(15, 9))\n",
        "\n",
        "plt.plot(sorted(topsis.keys()), meansTOPSIS, label='Topsis',c='blue')\n",
        "plt.errorbar(topsis.keys(), meansTOPSIS, yerr=stdsTOPSIS, fmt ='.k')\n",
        "plt.plot(sorted(kmeans.keys()) , meansKMEANS, label='k_means',c='red')\n",
        "plt.errorbar(sorted(kmeans.keys()) , meansKMEANS, yerr=stdsKMEANS, fmt ='.k')\n",
        "plt.plot(sorted(kmeans2.keys()) , meansKMEANS2, label='k_means with score',c='green')\n",
        "plt.errorbar(sorted(kmeans2.keys()) , meansKMEANS2, yerr=stdsKMEANS2, fmt ='.k')\n",
        "plt.title('topsis vs k_kmeans vs k_means whit  score')\n",
        "\n",
        "plt.legend()"
      ]
    }
  ],
  "metadata": {
    "colab": {
      "collapsed_sections": [],
      "name": "si_model k_means_avec_score_football.ipynb",
      "provenance": []
    },
    "kernelspec": {
      "display_name": "Python 3",
      "name": "python3"
    }
  },
  "nbformat": 4,
  "nbformat_minor": 0
}